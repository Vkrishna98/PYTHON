{
 "cells": [
  {
   "cell_type": "markdown",
   "id": "9649bef7",
   "metadata": {},
   "source": [
    "# Variables"
   ]
  },
  {
   "cell_type": "code",
   "execution_count": 1,
   "id": "9a7a4997",
   "metadata": {},
   "outputs": [
    {
     "name": "stdout",
     "output_type": "stream",
     "text": [
      "9\n"
     ]
    }
   ],
   "source": [
    "x=5\n",
    "y=4\n",
    "z=x+y\n",
    "print(z)"
   ]
  },
  {
   "cell_type": "code",
   "execution_count": 2,
   "id": "0d538c3e",
   "metadata": {},
   "outputs": [
    {
     "name": "stdout",
     "output_type": "stream",
     "text": [
      "Hello VKY\n"
     ]
    }
   ],
   "source": [
    "x=\"Hello VKY\"\n",
    "print(x)"
   ]
  },
  {
   "cell_type": "markdown",
   "id": "5104bd5b",
   "metadata": {},
   "source": [
    "# Numbers"
   ]
  },
  {
   "cell_type": "code",
   "execution_count": 3,
   "id": "c9d58818",
   "metadata": {},
   "outputs": [
    {
     "name": "stdout",
     "output_type": "stream",
     "text": [
      "2.6666666666666665\n"
     ]
    },
    {
     "data": {
      "text/plain": [
       "float"
      ]
     },
     "execution_count": 3,
     "metadata": {},
     "output_type": "execute_result"
    }
   ],
   "source": [
    "x=8\n",
    "y=3\n",
    "z=(8/3)\n",
    "print(z)\n",
    "type(z)"
   ]
  },
  {
   "cell_type": "markdown",
   "id": "1e1f4e0a",
   "metadata": {},
   "source": [
    "# Operations On Numbers"
   ]
  },
  {
   "cell_type": "code",
   "execution_count": 4,
   "id": "61276bce",
   "metadata": {},
   "outputs": [
    {
     "name": "stdout",
     "output_type": "stream",
     "text": [
      "30\n"
     ]
    }
   ],
   "source": [
    "x = 3+8+9+10\n",
    "print(x)"
   ]
  },
  {
   "cell_type": "code",
   "execution_count": 5,
   "id": "575e8c8f",
   "metadata": {},
   "outputs": [
    {
     "name": "stdout",
     "output_type": "stream",
     "text": [
      "-169\n"
     ]
    }
   ],
   "source": [
    "x=10-89-78-12\n",
    "print(x)"
   ]
  },
  {
   "cell_type": "code",
   "execution_count": 6,
   "id": "89e5df40",
   "metadata": {},
   "outputs": [
    {
     "name": "stdout",
     "output_type": "stream",
     "text": [
      "144\n"
     ]
    }
   ],
   "source": [
    "x=12*12\n",
    "print(x)"
   ]
  },
  {
   "cell_type": "code",
   "execution_count": 7,
   "id": "4a7b14f0",
   "metadata": {},
   "outputs": [
    {
     "name": "stdout",
     "output_type": "stream",
     "text": [
      "4.0\n",
      "3.3333333333333335\n"
     ]
    }
   ],
   "source": [
    "x = 12/3\n",
    "y= 10/3\n",
    "print(x)\n",
    "print(y)"
   ]
  },
  {
   "cell_type": "code",
   "execution_count": 8,
   "id": "4f3dcc36",
   "metadata": {},
   "outputs": [
    {
     "name": "stdout",
     "output_type": "stream",
     "text": [
      "1\n"
     ]
    }
   ],
   "source": [
    "#Power\n",
    "\n",
    "a = 1\n",
    "b = 5\n",
    "c = 6\n",
    "discriminant = ((b**2)-4*a*c)\n",
    "print(discriminant)"
   ]
  },
  {
   "cell_type": "markdown",
   "id": "7a1e8d7f",
   "metadata": {},
   "source": [
    "# Casting"
   ]
  },
  {
   "cell_type": "code",
   "execution_count": 9,
   "id": "56002416",
   "metadata": {},
   "outputs": [
    {
     "data": {
      "text/plain": [
       "float"
      ]
     },
     "execution_count": 9,
     "metadata": {},
     "output_type": "execute_result"
    }
   ],
   "source": [
    "x = 2\n",
    "\n",
    "y= float(x)\n",
    "type(y)"
   ]
  },
  {
   "cell_type": "markdown",
   "id": "eb74d0e8",
   "metadata": {},
   "source": [
    "# String"
   ]
  },
  {
   "cell_type": "code",
   "execution_count": 10,
   "id": "fecc5400",
   "metadata": {},
   "outputs": [
    {
     "name": "stdout",
     "output_type": "stream",
     "text": [
      "HELLO\n",
      "hello\n",
      "Hello\n",
      "4\n",
      "2\n",
      "3\n"
     ]
    }
   ],
   "source": [
    "x = 'hello'\n",
    "print(x.upper())\n",
    "print(x.lower())\n",
    "print(x.title())\n",
    "print(x.index('o'))\n",
    "print(x.index('l'))\n",
    "print(x.index('lo'))"
   ]
  },
  {
   "cell_type": "code",
   "execution_count": 11,
   "id": "cea61a78",
   "metadata": {},
   "outputs": [
    {
     "name": "stdout",
     "output_type": "stream",
     "text": [
      "HiHiHiHiHi\n"
     ]
    }
   ],
   "source": [
    "x = \"Hi\"\n",
    "print (x * 5)"
   ]
  },
  {
   "cell_type": "code",
   "execution_count": 12,
   "id": "98655d4e",
   "metadata": {},
   "outputs": [
    {
     "name": "stdout",
     "output_type": "stream",
     "text": [
      "Hi \n",
      " How are you ?\n",
      " I'm Good!\n"
     ]
    }
   ],
   "source": [
    "print(\"Hi \\n How are you ?\\n I'm Good!\")"
   ]
  },
  {
   "cell_type": "code",
   "execution_count": 13,
   "id": "7c3b4204",
   "metadata": {},
   "outputs": [
    {
     "name": "stdout",
     "output_type": "stream",
     "text": [
      "\n",
      "Hi\n",
      "How are you\n",
      "Where are you\n",
      "\n"
     ]
    }
   ],
   "source": [
    "print(\"\"\"\n",
    "Hi\n",
    "How are you\n",
    "Where are you\n",
    "\"\"\")"
   ]
  },
  {
   "cell_type": "code",
   "execution_count": 14,
   "id": "2b430fbc",
   "metadata": {},
   "outputs": [
    {
     "name": "stdout",
     "output_type": "stream",
     "text": [
      "23\n",
      "23\n"
     ]
    }
   ],
   "source": [
    "x = int(input())\n",
    "print(x)"
   ]
  },
  {
   "cell_type": "code",
   "execution_count": 17,
   "id": "8271a736",
   "metadata": {},
   "outputs": [
    {
     "name": "stdout",
     "output_type": "stream",
     "text": [
      "VKY\n",
      "12\n",
      "Hi VKY you're 12 years old\n"
     ]
    }
   ],
   "source": [
    "n = input()\n",
    "a = input()\n",
    "print(\"Hi \" + n + \" you\\'re \" + a + \" years old\")"
   ]
  },
  {
   "cell_type": "code",
   "execution_count": 27,
   "id": "986d3b3a",
   "metadata": {},
   "outputs": [
    {
     "name": "stdout",
     "output_type": "stream",
     "text": [
      "VKY\n",
      "Welcome VKY\n"
     ]
    }
   ],
   "source": [
    "n = input()\n",
    "print(\"Welcome \" + n)"
   ]
  },
  {
   "cell_type": "markdown",
   "id": "b312b07c",
   "metadata": {},
   "source": [
    "# Operators"
   ]
  },
  {
   "cell_type": "code",
   "execution_count": 18,
   "id": "ee099ac7",
   "metadata": {},
   "outputs": [
    {
     "name": "stdout",
     "output_type": "stream",
     "text": [
      "5\n"
     ]
    }
   ],
   "source": [
    "x = 2\n",
    "\n",
    "x += 3\n",
    "\n",
    "print(x)"
   ]
  },
  {
   "cell_type": "code",
   "execution_count": 21,
   "id": "dda23775",
   "metadata": {},
   "outputs": [
    {
     "name": "stdout",
     "output_type": "stream",
     "text": [
      "Hello\n",
      "Hello VKY\n"
     ]
    }
   ],
   "source": [
    "x = \"Hello\"\n",
    "print(x)\n",
    "\n",
    "x += \" VKY\"\n",
    "print(x)"
   ]
  },
  {
   "cell_type": "code",
   "execution_count": 25,
   "id": "2a99f634",
   "metadata": {},
   "outputs": [
    {
     "name": "stdout",
     "output_type": "stream",
     "text": [
      "ccc\n"
     ]
    }
   ],
   "source": [
    "x = 'c'\n",
    "x *= 3\n",
    "print(x)"
   ]
  },
  {
   "cell_type": "code",
   "execution_count": 26,
   "id": "4d891b07",
   "metadata": {},
   "outputs": [
    {
     "name": "stdout",
     "output_type": "stream",
     "text": [
      "2\n"
     ]
    }
   ],
   "source": [
    "x = 3\n",
    "num = 17\n",
    "print(num % x)"
   ]
  },
  {
   "cell_type": "code",
   "execution_count": 29,
   "id": "8ee5ac2a",
   "metadata": {},
   "outputs": [
    {
     "name": "stdout",
     "output_type": "stream",
     "text": [
      "50\n",
      "10.0\n"
     ]
    }
   ],
   "source": [
    "x = int(input())\n",
    "tip = (x*(20/100))\n",
    "\n",
    "print(tip)"
   ]
  },
  {
   "cell_type": "markdown",
   "id": "a0518ff0",
   "metadata": {},
   "source": [
    "# Booleans and Comparison"
   ]
  },
  {
   "cell_type": "code",
   "execution_count": 31,
   "id": "9a8425db",
   "metadata": {},
   "outputs": [
    {
     "name": "stdout",
     "output_type": "stream",
     "text": [
      "True\n"
     ]
    }
   ],
   "source": [
    "con = True\n",
    "print(con)"
   ]
  },
  {
   "cell_type": "code",
   "execution_count": 32,
   "id": "bd841be6",
   "metadata": {},
   "outputs": [
    {
     "name": "stdout",
     "output_type": "stream",
     "text": [
      "False\n"
     ]
    }
   ],
   "source": [
    "print(2==3)"
   ]
  },
  {
   "cell_type": "code",
   "execution_count": 33,
   "id": "244b8105",
   "metadata": {},
   "outputs": [
    {
     "name": "stdout",
     "output_type": "stream",
     "text": [
      "True\n"
     ]
    }
   ],
   "source": [
    "print(\"hello\" == 'hello')"
   ]
  },
  {
   "cell_type": "code",
   "execution_count": 34,
   "id": "ce16e1e8",
   "metadata": {},
   "outputs": [
    {
     "name": "stdout",
     "output_type": "stream",
     "text": [
      "False\n"
     ]
    }
   ],
   "source": [
    "print(\"Hello\" == 'hello')"
   ]
  },
  {
   "cell_type": "code",
   "execution_count": 36,
   "id": "ce4ae536",
   "metadata": {},
   "outputs": [
    {
     "name": "stdout",
     "output_type": "stream",
     "text": [
      "False\n",
      "True\n"
     ]
    }
   ],
   "source": [
    "x = \"Hello\"\n",
    "y = \"hello\"\n",
    "\n",
    "print(x == y)\n",
    "\n",
    "print(x.lower() == y.lower())"
   ]
  },
  {
   "cell_type": "code",
   "execution_count": 38,
   "id": "766ee5c2",
   "metadata": {},
   "outputs": [
    {
     "name": "stdout",
     "output_type": "stream",
     "text": [
      "False\n",
      "True\n",
      "True\n",
      "True\n"
     ]
    }
   ],
   "source": [
    "age = 27\n",
    "\n",
    "print(age != 27)\n",
    "print(age > 10)\n",
    "print(age < 30)\n",
    "print(age >= 27)"
   ]
  },
  {
   "cell_type": "markdown",
   "id": "5263cfab",
   "metadata": {},
   "source": [
    "# if Condition"
   ]
  },
  {
   "cell_type": "code",
   "execution_count": 39,
   "id": "c8c36fc9",
   "metadata": {},
   "outputs": [
    {
     "name": "stdout",
     "output_type": "stream",
     "text": [
      "Eligible!\n"
     ]
    }
   ],
   "source": [
    "age = 26\n",
    "if(age > 18):\n",
    "    print(\"Eligible!\")"
   ]
  },
  {
   "cell_type": "code",
   "execution_count": 42,
   "id": "72968e36",
   "metadata": {},
   "outputs": [
    {
     "name": "stdout",
     "output_type": "stream",
     "text": [
      "19\n",
      "Eligible\n"
     ]
    }
   ],
   "source": [
    "age = int(input())\n",
    "\n",
    "if(age > 18):\n",
    "    print(\"Eligible\")\n",
    "else:\n",
    "        print(\"Not Eligible\")"
   ]
  },
  {
   "cell_type": "code",
   "execution_count": 45,
   "id": "de2cf8c1",
   "metadata": {},
   "outputs": [
    {
     "name": "stdout",
     "output_type": "stream",
     "text": [
      "Something Else\n"
     ]
    }
   ],
   "source": [
    "num = 10\n",
    "if (num == 1):\n",
    "    print(\"one\")\n",
    "else:\n",
    "    if(num == 2):\n",
    "        print(\"two\")\n",
    "    else:\n",
    "        if(num == 3):\n",
    "            print(\"three\")\n",
    "        else:\n",
    "            print(\"Something Else\")"
   ]
  },
  {
   "cell_type": "markdown",
   "id": "ca809e10",
   "metadata": {},
   "source": [
    "# Leap Year"
   ]
  },
  {
   "cell_type": "code",
   "execution_count": 55,
   "id": "e76da609",
   "metadata": {
    "scrolled": true
   },
   "outputs": [
    {
     "name": "stdout",
     "output_type": "stream",
     "text": [
      "2000\n",
      "Leap Year\n"
     ]
    }
   ],
   "source": [
    "y = int(input())\n",
    "\n",
    "if(((y%4==0) and (y%100!=0)) or (y%400==0)):\n",
    "    print(\"Leap Year\")\n",
    "else:\n",
    "    print(\"Not a Leap Year\")"
   ]
  },
  {
   "cell_type": "code",
   "execution_count": null,
   "id": "48bd9582",
   "metadata": {},
   "outputs": [],
   "source": []
  }
 ],
 "metadata": {
  "kernelspec": {
   "display_name": "Python 3 (ipykernel)",
   "language": "python",
   "name": "python3"
  },
  "language_info": {
   "codemirror_mode": {
    "name": "ipython",
    "version": 3
   },
   "file_extension": ".py",
   "mimetype": "text/x-python",
   "name": "python",
   "nbconvert_exporter": "python",
   "pygments_lexer": "ipython3",
   "version": "3.9.13"
  }
 },
 "nbformat": 4,
 "nbformat_minor": 5
}
